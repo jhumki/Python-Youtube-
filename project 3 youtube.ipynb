{
 "cells": [
  {
   "cell_type": "code",
   "execution_count": 2,
   "metadata": {},
   "outputs": [
    {
     "name": "stdout",
     "output_type": "stream",
     "text": [
      "Requirement already satisfied: pytube in d:\\new folder (2)\\lib\\site-packages (10.0.0)\n",
      "Requirement already satisfied: typing-extensions in d:\\new folder (2)\\lib\\site-packages (from pytube) (3.7.4.2)\n"
     ]
    }
   ],
   "source": [
    "!pip install pytube"
   ]
  },
  {
   "cell_type": "code",
   "execution_count": 3,
   "metadata": {},
   "outputs": [],
   "source": [
    "import pytube"
   ]
  },
  {
   "cell_type": "code",
   "execution_count": 26,
   "metadata": {},
   "outputs": [],
   "source": [
    "from tkinter import *\n",
    "from pytube import YouTube"
   ]
  },
  {
   "cell_type": "code",
   "execution_count": 31,
   "metadata": {},
   "outputs": [],
   "source": [
    "root = Tk()\n",
    "root.geometry(\"300x400\")\n",
    "root.title(\"You tube video download\")\n",
    "def youtube():\n",
    "    a = var.get()#https://www.youtube.com/watch?v=0NV1KdWRHck\n",
    "    ytvideo = YouTube(a).streams.filter(file_extension=\"mp4\").order_by('resolution').desc().first()\n",
    "    print(ytvideo)\n",
    "    ytvideo.download(r\"C:\\vid\")\n",
    "    \n",
    "    print('Entry box',a)\n",
    "l1 = Label(root,text =\"youTube video\",fg=\"Green\")\n",
    "l1.place(x=100,y=50)\n",
    "var = StringVar()\n",
    "e1 = Entry(root,textvariable=var,width=60)\n",
    "e1.place(x=80,y=80)\n",
    "b1 =Button(root,text=\"Download\",command=youtube,bg=\"Blue\",width=20,fg='white')\n",
    "b1.place(x=80,y=120)"
   ]
  },
  {
   "cell_type": "code",
   "execution_count": 32,
   "metadata": {},
   "outputs": [
    {
     "name": "stdout",
     "output_type": "stream",
     "text": [
      "<Stream: itag=\"136\" mime_type=\"video/mp4\" res=\"720p\" fps=\"30fps\" vcodec=\"avc1.4d401f\" progressive=\"False\" type=\"video\">\n",
      "Entry box https://www.youtube.com/watch?v=0NV1KdWRHck\n"
     ]
    }
   ],
   "source": [
    "\n",
    "root.mainloop()"
   ]
  },
  {
   "cell_type": "code",
   "execution_count": 34,
   "metadata": {},
   "outputs": [
    {
     "name": "stdout",
     "output_type": "stream",
     "text": [
      "Collecting instaloader\n",
      "  Downloading instaloader-4.5.5.tar.gz (47 kB)\n",
      "Requirement already satisfied: requests>=2.4 in d:\\new folder (2)\\lib\\site-packages (from instaloader) (2.24.0)\n",
      "Requirement already satisfied: certifi>=2017.4.17 in d:\\new folder (2)\\lib\\site-packages (from requests>=2.4->instaloader) (2020.6.20)\n",
      "Requirement already satisfied: idna<3,>=2.5 in d:\\new folder (2)\\lib\\site-packages (from requests>=2.4->instaloader) (2.10)\n",
      "Requirement already satisfied: chardet<4,>=3.0.2 in d:\\new folder (2)\\lib\\site-packages (from requests>=2.4->instaloader) (3.0.4)\n",
      "Requirement already satisfied: urllib3!=1.25.0,!=1.25.1,<1.26,>=1.21.1 in d:\\new folder (2)\\lib\\site-packages (from requests>=2.4->instaloader) (1.25.9)\n",
      "Building wheels for collected packages: instaloader\n",
      "  Building wheel for instaloader (setup.py): started\n",
      "  Building wheel for instaloader (setup.py): finished with status 'done'\n",
      "  Created wheel for instaloader: filename=instaloader-4.5.5-py3-none-any.whl size=50915 sha256=58b1bc4ebc1595661691a2cf9f21693e2e93e5fa3fff17689c8d5362672489e7\n",
      "  Stored in directory: c:\\users\\boss\\appdata\\local\\pip\\cache\\wheels\\4c\\64\\0e\\247402c91725374b29a78e48e7ef128dab3d2ee95414d04beb\n",
      "Successfully built instaloader\n",
      "Installing collected packages: instaloader\n",
      "Successfully installed instaloader-4.5.5\n"
     ]
    }
   ],
   "source": [
    "!pip install instaloader"
   ]
  },
  {
   "cell_type": "code",
   "execution_count": null,
   "metadata": {},
   "outputs": [],
   "source": []
  }
 ],
 "metadata": {
  "kernelspec": {
   "display_name": "Python 3",
   "language": "python",
   "name": "python3"
  },
  "language_info": {
   "codemirror_mode": {
    "name": "ipython",
    "version": 3
   },
   "file_extension": ".py",
   "mimetype": "text/x-python",
   "name": "python",
   "nbconvert_exporter": "python",
   "pygments_lexer": "ipython3",
   "version": "3.8.3"
  }
 },
 "nbformat": 4,
 "nbformat_minor": 4
}
